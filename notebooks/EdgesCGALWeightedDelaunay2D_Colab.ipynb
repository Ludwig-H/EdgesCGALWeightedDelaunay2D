{
  "cells": [
    {
      "cell_type": "markdown",
      "metadata": {},
      "source": "# EdgesCGALWeightedDelaunay2D – Colab\nCe notebook installe les dépendances, compile le projet et lance un test rapide.\n"
    },
    {
      "cell_type": "code",
      "metadata": {},
      "execution_count": null,
      "outputs": [],
      "source": [
        "%pip -q install numpy\n",
        "!apt-get -qq update\n",
        "!apt-get -qq install -y build-essential cmake libcgal-dev libeigen3-dev\n"
      ]
    },
    {
      "cell_type": "code",
      "metadata": {},
      "execution_count": null,
      "outputs": [],
      "source": [
        "import os, shutil, subprocess, json, numpy as np\n",
        "proj = '/content/EdgesCGALWeightedDelaunay2D'\n",
        "if os.path.exists(proj): shutil.rmtree(proj)\n",
        "shutil.unpack_archive('/content/EdgesCGALWeightedDelaunay2D.zip', '/content')\n",
        "print('Unpacked:', os.listdir('/content'))\n"
      ]
    },
    {
      "cell_type": "code",
      "metadata": {},
      "execution_count": null,
      "outputs": [],
      "source": [
        "%%bash\n",
        "set -euo pipefail\n",
        "cd /content/EdgesCGALWeightedDelaunay2D\n",
        "cmake -S . -B build\n",
        "cmake --build build -j\n"
      ]
    },
    {
      "cell_type": "code",
      "metadata": {},
      "execution_count": null,
      "outputs": [],
      "source": [
        "import numpy as np, subprocess, os\n",
        "proj = '/content/EdgesCGALWeightedDelaunay2D'\n",
        "binp = os.path.join(proj,'build','EdgesCGALWeightedDelaunay2D')\n",
        "pts = os.path.join(proj,'data','example_points.npy')\n",
        "wts = os.path.join(proj,'data','example_weights.npy')\n",
        "outp = os.path.join(proj,'out_edges.npy')\n",
        "subprocess.run([binp, pts, wts, outp], check=True)\n",
        "E = np.load(outp)\n",
        "print('Edges:', E.shape, '\\nSample:', E[:10])\n"
      ]
    },
    {
      "cell_type": "markdown",
      "metadata": {},
      "source": "### Stress test (1e6 points)\nLe bloc suivant est commenté pour éviter de faire exploser la session. Décommentez si vous voulez pousser la perf."
    },
    {
      "cell_type": "code",
      "metadata": {},
      "execution_count": null,
      "outputs": [],
      "source": [
        "import numpy as np, subprocess, os, time\n",
        "proj = '/content/EdgesCGALWeightedDelaunay2D'\n",
        "binp = os.path.join(proj,'build','EdgesCGALWeightedDelaunay2D')\n",
        "N = 1_000_000\n",
        "P = np.random.random((N,2)).astype('float64')\n",
        "np.save(os.path.join(proj,'data','million_points.npy'), P)\n",
        "W = (0.001*np.random.random(N)).astype('float64')\n",
        "np.save(os.path.join(proj,'data','million_weights.npy'), W)\n",
        "t0=time.time();\n",
        "subprocess.run([binp, os.path.join(proj,'data','million_points.npy'), os.path.join(proj,'data','million_weights.npy'), os.path.join(proj,'data','million_edges.npy')], check=True)\n",
        "print('Done in', round(time.time()-t0,2), 's')\n"
      ]
    }
  ],
  "metadata": {
    "colab": {
      "provenance": []
    },
    "kernelspec": {
      "display_name": "Python 3",
      "name": "python3"
    }
  },
  "nbformat": 4,
  "nbformat_minor": 0
}